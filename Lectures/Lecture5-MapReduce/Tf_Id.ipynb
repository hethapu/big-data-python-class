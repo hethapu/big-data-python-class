{
 "cells": [
  {
   "cell_type": "code",
   "execution_count": 3,
   "metadata": {
    "collapsed": false
   },
   "outputs": [
    {
     "name": "stdout",
     "output_type": "stream",
     "text": [
      " stored in MRSortByString.py\n"
     ]
    }
   ],
   "source": [
    "from mrjob.job import MRJob\n",
    "\n",
    "class MRSortByString(MRJob):\n",
    "    def mapper(self, _, line):\n",
    "        \"\"\"\n",
    "        \"\"\"\n",
    "        l = line.split(' ')\n",
    "        yield l[1], l[0]\n",
    "\n",
    "    def reducer(self, key, val):\n",
    "        yield key, [v for v in val][0]\n",
    "\n",
    "\n",
    "if __name__ == '__main__':\n",
    "    print \" stored in MRSortByString.py\"\n",
    "    #MRSortByString.run()"
   ]
  },
  {
   "cell_type": "code",
   "execution_count": null,
   "metadata": {
    "collapsed": true
   },
   "outputs": [],
   "source": []
  },
  {
   "cell_type": "markdown",
   "metadata": {},
   "source": [
    "sortdata.txt\n",
    "\n",
    "1 1\n",
    "2 4\n",
    "3 8\n",
    "4 2\n",
    "4 7\n",
    "5 5\n",
    "6 10\n",
    "7 11"
   ]
  },
  {
   "cell_type": "code",
   "execution_count": 2,
   "metadata": {
    "collapsed": false
   },
   "outputs": [
    {
     "ename": "ImportError",
     "evalue": "No module named MRSortByString",
     "output_type": "error",
     "traceback": [
      "\u001b[1;31m---------------------------------------------------------------------------\u001b[0m",
      "\u001b[1;31mImportError\u001b[0m                               Traceback (most recent call last)",
      "\u001b[1;32m<ipython-input-2-b92c8fcac6ed>\u001b[0m in \u001b[0;36m<module>\u001b[1;34m()\u001b[0m\n\u001b[0;32m      1\u001b[0m \u001b[1;33m\u001b[0m\u001b[0m\n\u001b[0;32m      2\u001b[0m \u001b[1;31m# Testing word frequency count\u001b[0m\u001b[1;33m\u001b[0m\u001b[1;33m\u001b[0m\u001b[0m\n\u001b[1;32m----> 3\u001b[1;33m \u001b[1;32mfrom\u001b[0m \u001b[0mMRSortByString\u001b[0m \u001b[1;32mimport\u001b[0m \u001b[1;33m*\u001b[0m\u001b[1;33m\u001b[0m\u001b[0m\n\u001b[0m\u001b[0;32m      4\u001b[0m \u001b[1;32mfrom\u001b[0m \u001b[0mmrjob\u001b[0m\u001b[1;33m.\u001b[0m\u001b[0mjob\u001b[0m \u001b[1;32mimport\u001b[0m \u001b[0mMRJob\u001b[0m\u001b[1;33m\u001b[0m\u001b[0m\n\u001b[0;32m      5\u001b[0m '''\n",
      "\u001b[1;31mImportError\u001b[0m: No module named MRSortByString"
     ]
    }
   ],
   "source": [
    "# -*- coding: utf-8 -*-\n",
    "# Testing word frequency count\n",
    "from MRSortByString import *\n",
    "from mrjob.job import MRJob\n",
    "'''\n",
    "This is a simple wrapper that runs mrjob MapReduce jobs, the inputs are:\n",
    "MRJobClass - the class of the job to be run\n",
    "argsArr - an array of strings to be used when creating the MRJob.\n",
    "@author: Peter Harrington  if you have any questions: peter.b.harrington@gmail.com\n",
    "'''\n",
    "def runJob(MRJobClass, argsArr, loc='local'):\n",
    "    if loc == 'emr': \n",
    "        argsArr.extend(['-r', 'emr'])\n",
    "    print \"starting %s job on %s\" % (MRJobClass.__name__, loc)\n",
    "    mrJob = MRJobClass(args=argsArr)\n",
    "    runner = mrJob.make_runner()\n",
    "    runner.run()\n",
    "    print \"finished %s job\" % MRJobClass.__name__\n",
    "    return mrJob, runner\n",
    "    \n",
    "def runParallelJob(MRJobClass, argsArr):            #TO DO: add threading to allow jobs to run in \n",
    "    pass                                                #parallel \n",
    "    #launch a new thread\n",
    "    #call runJob(MRJobClass, argsArr) on the new thread\n",
    "\n",
    "if __name__ == '__main__':\n",
    "# pass in file from outside\n",
    "#    MRWordFrequencyCount.run()\n",
    "#setup file here\n",
    "    mr_job, runner = runJob(MRSortByString,[\"C:\\data\\sortdata.txt\"],\"local\")\n",
    "    print \"Sorting sortdata.txt\"\n",
    "    for line in runner.stream_output(): \n",
    "        key, value = mr_job.parse_output_line(line)\n",
    "        print \"%s: %s \"%(key,value)"
   ]
  },
  {
   "cell_type": "markdown",
   "metadata": {},
   "source": [
    "Note the second column is reported by their string values"
   ]
  }
 ],
 "metadata": {
  "kernelspec": {
   "display_name": "Python 2",
   "language": "python",
   "name": "python2"
  },
  "language_info": {
   "codemirror_mode": {
    "name": "ipython",
    "version": 2
   },
   "file_extension": ".py",
   "mimetype": "text/x-python",
   "name": "python",
   "nbconvert_exporter": "python",
   "pygments_lexer": "ipython2",
   "version": "2.7.9"
  }
 },
 "nbformat": 4,
 "nbformat_minor": 0
}
