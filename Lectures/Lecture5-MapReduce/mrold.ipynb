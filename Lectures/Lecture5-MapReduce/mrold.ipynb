{
"metadata": {
  "name": "",
  "signature": "sha256:51e5a67b41995ab48e2b2d13a3d78f7ba4ee841439be7c528fc1fe3a7bdbe31a"
},
"nbformat": 3,
"nbformat_minor": 0,
"worksheets": [
  {
   "cells": [
    {
     "cell_type": "code",
     "collapsed": false,
     "input": [
      "from mrjob.job import MRJob\n",
      "\n",
      "class MRSortByString(MRJob):\n",
      "    def mapper(self, _, line):\n",
      "        \"\"\"\n",
      "        \"\"\"\n",
      "        l = line.split(' ')\n",
      "        yield l[1], l[0]\n",
      "\n",
      "    def reducer(self, key, val):\n",
      "        yield key, [v for v in val][0]\n",
      "\n",
      "\n",
      "if __name__ == '__main__':\n",
      "    print \" stored in MRSortByString.py\"\n",
      "    #MRSortByString.run()"
     ],
     "language": "python",
     "metadata": {},
     "outputs": [
      {
       "output_type": "stream",
       "stream": "stdout",
       "text": [
        " stored in MRSortByString.py\n"
       ]
      }
     ],
     "prompt_number": 4
    },
    {
     "cell_type": "markdown",
     "metadata": {},
     "source": [
      "sortdata.txt\n",
      "\n",
      "1 1\n",
      "2 4\n",
      "3 8\n",
      "4 2\n",
      "4 7\n",
      "5 5\n",
      "6 10\n",
      "7 11"
     ]
    },
    {
     "cell_type": "code",
     "collapsed": false,
     "input": [
      "# -*- coding: utf-8 -*-\n",
      "# Testing word frequency count\n",
      "from MRSortByString import *\n",
      "from mrjob.job import MRJob\n",
      "'''\n",
      "This is a simple wrapper that runs mrjob MapReduce jobs, the inputs are:\n",
      "MRJobClass - the class of the job to be run\n",
      "argsArr - an array of strings to be used when creating the MRJob.\n",
      "@author: Peter Harrington  if you have any questions: peter.b.harrington@gmail.com\n",
      "'''\n",
      "def runJob(MRJobClass, argsArr, loc='local'):\n",
      "    if loc == 'emr': \n",
      "        argsArr.extend(['-r', 'emr'])\n",
      "    print \"starting %s job on %s\" % (MRJobClass.__name__, loc)\n",
      "    mrJob = MRJobClass(args=argsArr)\n",
      "    runner = mrJob.make_runner()\n",
      "    runner.run()\n",
      "    print \"finished %s job\" % MRJobClass.__name__\n",
      "    return mrJob, runner\n",
      "    \n",
      "def runParallelJob(MRJobClass, argsArr):            #TO DO: add threading to allow jobs to run in \n",
      "    pass                                                #parallel \n",
      "    #launch a new thread\n",
      "    #call runJob(MRJobClass, argsArr) on the new thread\n",
      "\n",
      "if __name__ == '__main__':\n",
      "# pass in file from outside\n",
      "#    MRWordFrequencyCount.run()\n",
      "#setup file here\n",
      "    mr_job, runner = runJob(MRSortByString,[\"C:\\data\\sortdata.txt\"],\"local\")\n",
      "    print \"Sorting sortdata.txt\"\n",
      "    for line in runner.stream_output(): \n",
      "        key, value = mr_job.parse_output_line(line)\n",
      "        print \"%s: %s \"%(key,value)"
     ],
     "language": "python",
     "metadata": {},
     "outputs": [
      {
       "output_type": "stream",
       "stream": "stderr",
       "text": [
        "WARNING:mrjob.job:mr() is deprecated and will be removed in v0.6.0. Use mrjob.step.MRStep directly instead.\n"
       ]
      },
      {
       "output_type": "stream",
       "stream": "stderr",
       "text": [
        "WARNING:mrjob.job:mr() is deprecated and will be removed in v0.6.0. Use mrjob.step.MRStep directly instead.\n"
       ]
      },
      {
       "output_type": "stream",
       "stream": "stderr",
       "text": [
        "WARNING:mrjob.job:mr() is deprecated and will be removed in v0.6.0. Use mrjob.step.MRStep directly instead.\n"
       ]
      },
      {
       "output_type": "stream",
       "stream": "stderr",
       "text": [
        "WARNING:mrjob.job:mr() is deprecated and will be removed in v0.6.0. Use mrjob.step.MRStep directly instead.\n"
       ]
      },
      {
       "output_type": "stream",
       "stream": "stderr",
       "text": [
        "WARNING:mrjob.job:mr() is deprecated and will be removed in v0.6.0. Use mrjob.step.MRStep directly instead.\n"
       ]
      },
      {
       "output_type": "stream",
       "stream": "stdout",
       "text": [
        "starting MRSortByString job on local\n",
        "finished MRSortByString job"
       ]
      },
      {
       "output_type": "stream",
       "stream": "stdout",
       "text": [
        "\n",
        "Sorting sortdata.txt\n",
        "1: 1 \n",
        "10: 6 \n",
        "11: 7 \n",
        "2: 4 \n",
        "4: 2 \n",
        "5: 5 \n",
        "7: 4 \n",
        "8: 3 \n"
       ]
      }
     ],
     "prompt_number": 1
    },
    {
     "cell_type": "markdown",
     "metadata": {},
     "source": [
      "Note the second column is reported by their string values"
     ]
    }
   ],
   "metadata": {}
  }
]
}